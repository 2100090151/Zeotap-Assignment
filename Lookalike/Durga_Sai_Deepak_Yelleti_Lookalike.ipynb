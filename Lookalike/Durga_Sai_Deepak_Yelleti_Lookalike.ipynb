{
  "nbformat": 4,
  "nbformat_minor": 0,
  "metadata": {
    "colab": {
      "provenance": []
    },
    "kernelspec": {
      "name": "python3",
      "display_name": "Python 3"
    },
    "language_info": {
      "name": "python"
    }
  },
  "cells": [
    {
      "cell_type": "code",
      "source": [
        "import pandas as pd\n",
        "import numpy as np\n",
        "from sklearn.metrics.pairwise import cosine_similarity\n",
        "from sklearn.cluster import KMeans\n",
        "from sklearn.preprocessing import StandardScaler, LabelEncoder\n",
        "import matplotlib.pyplot as plt\n",
        "import seaborn as sns\n",
        "\n",
        "# Load datasets\n",
        "customer_data = pd.read_csv('Customers.csv')\n",
        "product_data = pd.read_csv('Products.csv')\n",
        "transaction_data = pd.read_csv('Transactions.csv')\n",
        "# Task 1: Exploratory Data Analysis (EDA)\n",
        "# Merge datasets for comprehensive analysis\n",
        "data = transactions.merge(customers, on='CustomerID').merge(products, on='ProductID')\n",
        "\n",
        "\n",
        "# Task 2: Lookalike Model\n",
        "# Feature preparation\n",
        "customer_features = data.groupby('CustomerID').agg({\n",
        "    'Region': 'first',\n",
        "    'ProductID': lambda x: list(x),\n",
        "    'TotalValue': 'sum'\n",
        "}).reset_index()\n",
        "\n",
        "# Encode categorical data\n",
        "le = LabelEncoder()\n",
        "customer_features['Region'] = le.fit_transform(customer_features['Region'])\n",
        "\n",
        "# Transform ProductID list into binary encoded features\n",
        "product_ids = sorted(data['ProductID'].unique())\n",
        "for pid in product_ids:\n",
        "    customer_features[pid] = customer_features['ProductID'].apply(lambda x: 1 if pid in x else 0)\n",
        "customer_features.drop('ProductID', axis=1, inplace=True)\n",
        "\n",
        "# Calculate similarity\n",
        "feature_matrix = customer_features.iloc[:, 1:].values\n",
        "similarities = cosine_similarity(feature_matrix)\n",
        "\n",
        "# Generate recommendations\n",
        "lookalike_results = {}\n",
        "for i, customer_id in enumerate(customer_features['CustomerID'][:20]):\n",
        "    sim_scores = list(enumerate(similarities[i]))\n",
        "    sim_scores = sorted(sim_scores, key=lambda x: x[1], reverse=True)[1:4]\n",
        "    lookalike_results[customer_id] = [(customer_features['CustomerID'][j], round(score, 2)) for j, score in sim_scores]\n",
        "\n",
        "# Save to CSV\n",
        "lookalike_df = pd.DataFrame({\n",
        "    'CustomerID': list(lookalike_results.keys()),\n",
        "    'Lookalikes': [str(v) for v in lookalike_results.values()]\n",
        "})\n",
        "lookalike_df.to_csv('Durga_Sai_Deepak_Yelleti_Lookalike.csv', index=False)\n",
        "\n",
        "\n"
      ],
      "metadata": {
        "colab": {
          "base_uri": "https://localhost:8080/"
        },
        "id": "dMAWJLUMYdWV",
        "outputId": "22a4732e-c9f4-4bca-ed69-b99d7c48a49a"
      },
      "execution_count": 44,
      "outputs": [
        {
          "output_type": "stream",
          "name": "stderr",
          "text": [
            "<ipython-input-44-cb9bd2cffd90>:33: PerformanceWarning: DataFrame is highly fragmented.  This is usually the result of calling `frame.insert` many times, which has poor performance.  Consider joining all columns at once using pd.concat(axis=1) instead. To get a de-fragmented frame, use `newframe = frame.copy()`\n",
            "  customer_features[pid] = customer_features['ProductID'].apply(lambda x: 1 if pid in x else 0)\n",
            "<ipython-input-44-cb9bd2cffd90>:33: PerformanceWarning: DataFrame is highly fragmented.  This is usually the result of calling `frame.insert` many times, which has poor performance.  Consider joining all columns at once using pd.concat(axis=1) instead. To get a de-fragmented frame, use `newframe = frame.copy()`\n",
            "  customer_features[pid] = customer_features['ProductID'].apply(lambda x: 1 if pid in x else 0)\n",
            "<ipython-input-44-cb9bd2cffd90>:33: PerformanceWarning: DataFrame is highly fragmented.  This is usually the result of calling `frame.insert` many times, which has poor performance.  Consider joining all columns at once using pd.concat(axis=1) instead. To get a de-fragmented frame, use `newframe = frame.copy()`\n",
            "  customer_features[pid] = customer_features['ProductID'].apply(lambda x: 1 if pid in x else 0)\n",
            "<ipython-input-44-cb9bd2cffd90>:33: PerformanceWarning: DataFrame is highly fragmented.  This is usually the result of calling `frame.insert` many times, which has poor performance.  Consider joining all columns at once using pd.concat(axis=1) instead. To get a de-fragmented frame, use `newframe = frame.copy()`\n",
            "  customer_features[pid] = customer_features['ProductID'].apply(lambda x: 1 if pid in x else 0)\n"
          ]
        }
      ]
    }
  ]
}